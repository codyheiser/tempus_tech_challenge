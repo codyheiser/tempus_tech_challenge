{
 "cells": [
  {
   "cell_type": "code",
   "execution_count": 18,
   "metadata": {},
   "outputs": [],
   "source": [
    "import requests, sys\n",
    "\n",
    "import pandas as pd\n",
    "\n",
    "from pyensembl import EnsemblRelease\n",
    "\n",
    "# release 75 uses human reference genome GRCh37\n",
    "ensembl_data = EnsemblRelease(75)"
   ]
  },
  {
   "cell_type": "code",
   "execution_count": 59,
   "metadata": {},
   "outputs": [],
   "source": [
    "import vcf\n",
    "\n",
    "\n",
    "def split_vals(d, key, list_delim=\";\"):\n",
    "    \"\"\"\n",
    "    Given a dictionary and key within it, split values into multiple keys\n",
    "\n",
    "    Parameters\n",
    "    ----------\n",
    "    d : `dict`\n",
    "        Dictionary\n",
    "    key : `str`\n",
    "        Key within `d` to split\n",
    "    list_delim : `str`, optional (default=\";\")\n",
    "        String to delimit list values in `d[key]` with\n",
    "\n",
    "    Returns\n",
    "    -------\n",
    "    d : `dict`\n",
    "        Dictionary with split values\n",
    "    \"\"\"\n",
    "    assert list_delim in d[key], \"Key {} does not contain delimiter {}\".format(key, list_delim)\n",
    "    vals = d[key].split(list_delim)  # list of split values\n",
    "    d[key] = vals[0]  # original key gets first value\n",
    "    for i, val in enumerate(vals[1:]):\n",
    "        # add key1, key2, etc. and corresponding values\n",
    "        d[\"{}{}\".format(val, i+1)] = val\n",
    "\n",
    "\n",
    "def unpack_dict(d, list_delim=\";\", verbose=False, indent=\"\"):\n",
    "    \"\"\"\n",
    "    Given a dictionary, unpack values such that lists become singular.\n",
    "    Intended to prep dictionaries for pandas compatibility.\n",
    "\n",
    "    Parameters\n",
    "    ----------\n",
    "    d : `dict`\n",
    "        Dictionary to unpack\n",
    "    list_delim : `str`, optional (default=\";\")\n",
    "        String to delimit list values in `d` with\n",
    "    verbose : `bool`, optional (default=`False`)\n",
    "        If `True`, print information when values are unpacked\n",
    "\n",
    "    Returns\n",
    "    -------\n",
    "    d_unpacked : `dict`\n",
    "        Dictionary with unpacked values\n",
    "    \"\"\"\n",
    "    d_unpacked = d.copy()\n",
    "    for key in d:\n",
    "        if isinstance(d[key], list):\n",
    "            # if key is a list, do some unpacking\n",
    "            if len(d[key]) > 1:\n",
    "                # if value is list, join by list_delim\n",
    "                d_unpacked[key] = [str(elem) for elem in d_unpacked[key]]\n",
    "                d_unpacked[key] = list_delim.join(d_unpacked[key])\n",
    "                if verbose:\n",
    "                    print(\"{}Joining key {} using delimiter {}\".format(indent, key, list_delim))\n",
    "            elif len(d_unpacked[key]) == 1:\n",
    "                # if value is list with one element, unpack\n",
    "                d_unpacked[key] = d_unpacked[key][0]\n",
    "                if verbose:\n",
    "                    print(\"{}Unpacked 1 value from key {}: {}\".format(indent, key, d_unpacked[key]))\n",
    "            else:\n",
    "                # if empty list (for some reason), remove the key\n",
    "                del d_unpacked[key]\n",
    "        elif isinstance(d[key], dict):\n",
    "            # if key is another dict, do full unpacking\n",
    "            if verbose:\n",
    "                print(\"{}Unpacking key {} as dictionary with {} keys\".format(indent, key, len(d_unpacked[key])))\n",
    "            # generate new keys from dict\n",
    "            unpacked_key = unpack_dict(d_unpacked[key], list_delim=list_delim, verbose=verbose, indent=\"{}\\t\".format(indent))\n",
    "            # delete original key-value pair\n",
    "            del d_unpacked[key]\n",
    "            # merge the two dicts\n",
    "            d_unpacked = {**d_unpacked, **unpacked_key}\n",
    "            if verbose:\n",
    "                print(\"{}\\tAdded {} keys to dict\".format(indent, len(unpacked_key)))\n",
    "        elif d[key] is None:\n",
    "            # if empty value, just remove it\n",
    "            del d_unpacked[key]\n",
    "\n",
    "    return d_unpacked\n",
    "\n",
    "\n",
    "def extract_call(call_obj, format_str=\"GT:GL:GOF:GQ:NR:NV\", format_delim=\":\"):\n",
    "    \"\"\"\n",
    "    Given a `vcf.model._Call` object, unpack values into dictionary\n",
    "\n",
    "    Parameters\n",
    "    ----------\n",
    "    call_obj : `vcf.model._Call`\n",
    "        PyVCF `model._Call` object to extract information from\n",
    "    format_str : `str`, optional (default=\"GT:GL:GOF:GQ:NR:NV\")\n",
    "        String describing format of `vcf.model._Call` object, and keys present\n",
    "    format_delim : `str`, optional (default=\":\")\n",
    "        String to delimit list values in `format_str` with\n",
    "\n",
    "    Returns\n",
    "    -------\n",
    "    call_dict : `dict`\n",
    "        Dictionary with unpacked values from `call_obj`\n",
    "    \"\"\"\n",
    "    assert isinstance(call_obj, vcf.model._Call), \"call_obj must be a vcf.model._Call object\"\n",
    "    call_dict = {}  # initialize empty dictionary\n",
    "    keys = format_str.split(format_delim)  # list of expected keys in call_obj\n",
    "    for key in keys:\n",
    "        call_dict[key] = getattr(call_obj.data, key)\n",
    "\n",
    "    return call_dict\n",
    "\n"
   ]
  },
  {
   "cell_type": "markdown",
   "metadata": {},
   "source": [
    "---"
   ]
  },
  {
   "cell_type": "code",
   "execution_count": 38,
   "metadata": {},
   "outputs": [
    {
     "name": "stdout",
     "output_type": "stream",
     "text": [
      "Record(CHROM=1, POS=1158631, REF=A, ALT=[G])\n",
      "\n",
      "Record(CHROM=1, POS=1246004, REF=A, ALT=[G])\n",
      "\n",
      "Record(CHROM=1, POS=1249187, REF=G, ALT=[A])\n",
      "\n",
      "Record(CHROM=1, POS=1261824, REF=G, ALT=[C])\n",
      "\n",
      "Record(CHROM=1, POS=1387667, REF=C, ALT=[G])\n",
      "\n",
      "Record(CHROM=1, POS=1585597, REF=A, ALT=[G])\n",
      "\n",
      "Record(CHROM=1, POS=1585642, REF=G, ALT=[T])\n",
      "\n",
      "Record(CHROM=1, POS=1586752, REF=T, ALT=[C])\n",
      "\n",
      "Record(CHROM=1, POS=1647686, REF=A, ALT=[C])\n",
      "\n",
      "Record(CHROM=1, POS=1647722, REF=GCTGTGACA, ALT=[TCTAGGATG])\n",
      "\n",
      ". . .\n",
      "\n",
      "\n",
      "Done! Total records: 11765\n"
     ]
    }
   ],
   "source": [
    "server = \"https://grch37.rest.ensembl.org\"  # ensembl queries\n",
    "counter = 0  # count number of records in vcf\n",
    "out_df = pd.DataFrame()  # initialize empty dataframe\n",
    "\n",
    "vcf_read = vcf.Reader(open(\"test_vcf_data.txt\", \"r\"))\n",
    "for record in vcf_read:\n",
    "    if counter < 10:\n",
    "        print(record, end = \"\\n\\n\")\n",
    "    if counter == 10:\n",
    "        print(\". . .\", end = \"\\n\\n\")\n",
    "\n",
    "    # unpack record into dictionary of depth 1\n",
    "    record_unpacked = unpack_dict(record.__dict__)\n",
    "    # unpack model._Call object\n",
    "    call_dict = unpack_dict(\n",
    "        extract_call(record_unpacked[\"samples\"], format_str=record_unpacked[\"FORMAT\"]),\n",
    "    )\n",
    "    # remove old keys\n",
    "    del record_unpacked[\"samples\"]\n",
    "    del record_unpacked[\"FORMAT\"]\n",
    "    # merge dicts\n",
    "    record_unpacked = {**record_unpacked, **call_dict}\n",
    "    \n",
    "    # add to out_df\n",
    "    out_df = pd.concat([out_df, pd.DataFrame(record_unpacked, index=[counter])])\n",
    "    \n",
    "    counter += 1\n",
    "    \n",
    "print(\"\\nDone! Total records: {}\".format(counter))"
   ]
  },
  {
   "cell_type": "code",
   "execution_count": 34,
   "metadata": {},
   "outputs": [
    {
     "data": {
      "text/plain": [
       "Index(['CHROM', 'POS', 'ID', 'REF', 'ALT', 'QUAL', 'start', 'end', 'alleles',\n",
       "       'affected_start', 'affected_end', 'BRF', 'FR', 'HP', 'HapScore', 'MGOF',\n",
       "       'MMLQ', 'MQ', 'NF', 'NR', 'PP', 'QD', 'SC', 'SbPval', 'Source', 'TC',\n",
       "       'TCF', 'TCR', 'TR', 'WE', 'WS', 'sample', 'GT', 'GL', 'GOF', 'GQ', 'NV',\n",
       "       'FILTER'],\n",
       "      dtype='object')"
      ]
     },
     "execution_count": 34,
     "metadata": {},
     "output_type": "execute_result"
    }
   ],
   "source": [
    "out_df.columns"
   ]
  },
  {
   "cell_type": "code",
   "execution_count": 39,
   "metadata": {},
   "outputs": [
    {
     "data": {
      "text/plain": [
       "False"
      ]
     },
     "execution_count": 39,
     "metadata": {},
     "output_type": "execute_result"
    }
   ],
   "source": [
    "record.is_deletion"
   ]
  },
  {
   "cell_type": "code",
   "execution_count": 40,
   "metadata": {},
   "outputs": [
    {
     "data": {
      "text/plain": [
       "False"
      ]
     },
     "execution_count": 40,
     "metadata": {},
     "output_type": "execute_result"
    }
   ],
   "source": [
    "record.is_indel"
   ]
  },
  {
   "cell_type": "code",
   "execution_count": 41,
   "metadata": {},
   "outputs": [
    {
     "data": {
      "text/plain": [
       "True"
      ]
     },
     "execution_count": 41,
     "metadata": {},
     "output_type": "execute_result"
    }
   ],
   "source": [
    "record.is_snp"
   ]
  },
  {
   "cell_type": "code",
   "execution_count": 42,
   "metadata": {},
   "outputs": [
    {
     "data": {
      "text/plain": [
       "'snp'"
      ]
     },
     "execution_count": 42,
     "metadata": {},
     "output_type": "execute_result"
    }
   ],
   "source": [
    "record.var_type"
   ]
  },
  {
   "cell_type": "code",
   "execution_count": 44,
   "metadata": {},
   "outputs": [
    {
     "data": {
      "text/plain": [
       "0.5"
      ]
     },
     "execution_count": 44,
     "metadata": {},
     "output_type": "execute_result"
    }
   ],
   "source": [
    "record.heterozygosity"
   ]
  },
  {
   "cell_type": "code",
   "execution_count": 46,
   "metadata": {},
   "outputs": [
    {
     "data": {
      "text/plain": [
       "'ts'"
      ]
     },
     "execution_count": 46,
     "metadata": {},
     "output_type": "execute_result"
    }
   ],
   "source": [
    "record.var_subtype"
   ]
  },
  {
   "cell_type": "code",
   "execution_count": null,
   "metadata": {},
   "outputs": [],
   "source": [
    "# calculate VAF\n",
    "out_df[\"VAF\"] = out_df[\"NV\"].astype(int) / out_df[\"NR\"].astype(int)"
   ]
  },
  {
   "cell_type": "code",
   "execution_count": null,
   "metadata": {},
   "outputs": [],
   "source": [
    "out_df = out_df.fillna(\"\")"
   ]
  },
  {
   "cell_type": "code",
   "execution_count": null,
   "metadata": {},
   "outputs": [],
   "source": [
    "out_df.loc[out_df.NV.contains(\";\"),:]"
   ]
  },
  {
   "cell_type": "code",
   "execution_count": 32,
   "metadata": {},
   "outputs": [
    {
     "data": {
      "text/plain": [
       "vcf.model._Substitution"
      ]
     },
     "execution_count": 32,
     "metadata": {},
     "output_type": "execute_result"
    }
   ],
   "source": [
    "type(out_df.ALT[0])"
   ]
  },
  {
   "cell_type": "code",
   "execution_count": 33,
   "metadata": {},
   "outputs": [
    {
     "data": {
      "text/plain": [
       "{'type': 'SNV', 'sequence': 'G'}"
      ]
     },
     "execution_count": 33,
     "metadata": {},
     "output_type": "execute_result"
    }
   ],
   "source": [
    "out_df.ALT[0].__dict__"
   ]
  },
  {
   "cell_type": "markdown",
   "metadata": {},
   "source": [
    "---"
   ]
  },
  {
   "cell_type": "code",
   "execution_count": 2,
   "metadata": {},
   "outputs": [
    {
     "name": "stdout",
     "output_type": "stream",
     "text": [
      "snp\n",
      "Record(CHROM=1, POS=1158631, REF=A, ALT=[G])\n",
      "\n",
      "snp\n",
      "Record(CHROM=1, POS=1246004, REF=A, ALT=[G])\n",
      "\n"
     ]
    },
    {
     "ename": "AssertionError",
     "evalue": "Gene IDs don't match! pyensembl: ENSG00000169972; API: ENSG00000127054",
     "output_type": "error",
     "traceback": [
      "\u001b[0;31m---------------------------------------------------------------------------\u001b[0m",
      "\u001b[0;31mAssertionError\u001b[0m                            Traceback (most recent call last)",
      "Input \u001b[0;32mIn [2]\u001b[0m, in \u001b[0;36m<cell line: 25>\u001b[0;34m()\u001b[0m\n\u001b[1;32m     66\u001b[0m pyensembl_id \u001b[38;5;241m=\u001b[39m ensembl_data\u001b[38;5;241m.\u001b[39mgenes_at_locus(contig\u001b[38;5;241m=\u001b[39mrecord\u001b[38;5;241m.\u001b[39mCHROM, position\u001b[38;5;241m=\u001b[39mrecord\u001b[38;5;241m.\u001b[39mPOS)[\u001b[38;5;241m0\u001b[39m]\u001b[38;5;241m.\u001b[39mgene_id\n\u001b[1;32m     67\u001b[0m api_id \u001b[38;5;241m=\u001b[39m decoded[\u001b[38;5;241m0\u001b[39m][\u001b[38;5;124m'\u001b[39m\u001b[38;5;124mtranscript_consequences\u001b[39m\u001b[38;5;124m'\u001b[39m][\u001b[38;5;241m0\u001b[39m][\u001b[38;5;124m\"\u001b[39m\u001b[38;5;124mgene_id\u001b[39m\u001b[38;5;124m\"\u001b[39m]\n\u001b[0;32m---> 68\u001b[0m \u001b[38;5;28;01massert\u001b[39;00m pyensembl_id \u001b[38;5;241m==\u001b[39m api_id, \u001b[38;5;124m\"\u001b[39m\u001b[38;5;124mGene IDs don\u001b[39m\u001b[38;5;124m'\u001b[39m\u001b[38;5;124mt match! pyensembl: \u001b[39m\u001b[38;5;132;01m{}\u001b[39;00m\u001b[38;5;124m; API: \u001b[39m\u001b[38;5;132;01m{}\u001b[39;00m\u001b[38;5;124m\"\u001b[39m\u001b[38;5;241m.\u001b[39mformat(pyensembl_id, api_id)\n\u001b[1;32m     70\u001b[0m \u001b[38;5;66;03m# add ensembl annotations\u001b[39;00m\n\u001b[1;32m     71\u001b[0m out[\u001b[38;5;124m\"\u001b[39m\u001b[38;5;124mgene_id\u001b[39m\u001b[38;5;124m\"\u001b[39m]\u001b[38;5;241m.\u001b[39mappend(decoded[\u001b[38;5;241m0\u001b[39m][\u001b[38;5;124m'\u001b[39m\u001b[38;5;124mtranscript_consequences\u001b[39m\u001b[38;5;124m'\u001b[39m][\u001b[38;5;241m0\u001b[39m][\u001b[38;5;124m\"\u001b[39m\u001b[38;5;124mgene_id\u001b[39m\u001b[38;5;124m\"\u001b[39m])\n",
      "\u001b[0;31mAssertionError\u001b[0m: Gene IDs don't match! pyensembl: ENSG00000169972; API: ENSG00000127054"
     ]
    }
   ],
   "source": [
    "server = \"https://grch37.rest.ensembl.org\"  # ensembl queries\n",
    "\n",
    "# initialize output as dict\n",
    "out = {\n",
    "    \"chr\":[],\n",
    "    \"pos\":[],\n",
    "    \"ref\":[],\n",
    "    \"alt\":[],\n",
    "    \"var_type\":[],\n",
    "    \"read_depth\":[],\n",
    "    \"forward_depth\":[],\n",
    "    \"reverse_depth\":[],\n",
    "    \"variant_depth\":[],\n",
    "    \"pct_variant\":[],\n",
    "    \"pct_reference\":[],\n",
    "    \"gene_symbol\":[],\n",
    "    \"gene_id\":[],\n",
    "    \"biotype\":[],\n",
    "    \"consequence_terms\":[],\n",
    "}\n",
    "\n",
    "counter = 0  # count number of records in vcf\n",
    "\n",
    "vcf_read = vcf.Reader(open(\"test_vcf_data.txt\", \"r\"))\n",
    "for record in vcf_read:\n",
    "    if counter < 10:\n",
    "        print(record.var_type)\n",
    "        print(record, end = \"\\n\\n\")\n",
    "        \n",
    "    # add attributes directly from vcf\n",
    "    out[\"chr\"].append(record.CHROM)\n",
    "    out[\"pos\"].append(record.POS)\n",
    "    out[\"ref\"].append(record.REF)\n",
    "    out[\"alt\"].append(record.ALT)\n",
    "    out[\"var_type\"].append(record.var_type)\n",
    "    out[\"read_depth\"].append(record.INFO[\"TR\"])\n",
    "    out[\"forward_depth\"].append(record.INFO[\"NF\"])\n",
    "    out[\"reverse_depth\"].append(record.INFO[\"NR\"])\n",
    "    \n",
    "    # query ensembl API\n",
    "    ext = \"/vep/homo_sapiens/region\"\n",
    "    headers={\"Content-Type\":\"application/json\", \"Accept\":\"application/json\"}\n",
    "    r = requests.post(\n",
    "        server + ext,\n",
    "        headers=headers,\n",
    "        data='{{ \"variants\" : [\"{} {} {} {} {} {} {} .\" ] }}'.format(\n",
    "            record.CHROM,\n",
    "            record.POS,\n",
    "            record.ID if record.ID is not None else \".\",\n",
    "            record.REF,\n",
    "            record.ALT[0],\n",
    "            record.QUAL,\n",
    "            record.FILTER,\n",
    "        )\n",
    "    )\n",
    "    \n",
    "    # QC on API request\n",
    "    if not r.ok:\n",
    "        r.raise_for_status()\n",
    "        sys.exit()\n",
    "        \n",
    "    # get dict of annotations\n",
    "    decoded = r.json()\n",
    "        \n",
    "    # confirm gene symbol\n",
    "    pyensembl_id = ensembl_data.genes_at_locus(contig=record.CHROM, position=record.POS)[0].gene_id\n",
    "    api_id = decoded[0]['transcript_consequences'][0][\"gene_id\"]\n",
    "    assert pyensembl_id == api_id, \"Gene IDs don't match! pyensembl: {}; API: {}\".format(pyensembl_id, api_id)\n",
    "    \n",
    "    # add ensembl annotations\n",
    "    out[\"gene_id\"].append(decoded[0]['transcript_consequences'][0][\"gene_id\"])\n",
    "    out[\"gene_symbol\"].append(decoded[0]['transcript_consequences'][0][\"gene_symbol\"])\n",
    "    out[\"biotype\"].append(decoded[0]['transcript_consequences'][0][\"biotype\"])\n",
    "    out[\"consequence_terms\"].append(\";\".join(decoded[0]['transcript_consequences'][0][\"consequence_terms\"]) if len(decoded[0]['transcript_consequences'][0][\"consequence_terms\"]) > 1 else decoded[0]['transcript_consequences'][0][\"consequence_terms\"][0])\n",
    "    \n",
    "    counter += 1\n",
    "    \n",
    "print(\"\\nDone! Total records: {}\".format(counter))"
   ]
  },
  {
   "cell_type": "code",
   "execution_count": 16,
   "metadata": {},
   "outputs": [
    {
     "data": {
      "text/plain": [
       "dict_keys(['regulatory_feature_consequences', 'most_severe_consequence', 'assembly_name', 'strand', 'id', 'end', 'start', 'transcript_consequences', 'input', 'seq_region_name', 'allele_string', 'colocated_variants'])"
      ]
     },
     "execution_count": 16,
     "metadata": {},
     "output_type": "execute_result"
    }
   ],
   "source": [
    "decoded[0].keys()"
   ]
  },
  {
   "cell_type": "code",
   "execution_count": 6,
   "metadata": {},
   "outputs": [
    {
     "name": "stdout",
     "output_type": "stream",
     "text": [
      "Unpacked 1 value from key ALT: G\n",
      "Unpacking key INFO as dictionary with 20 keys\n",
      "\tUnpacked 1 value from key FR: 1.0\n",
      "\tUnpacked 1 value from key HapScore: 1\n",
      "\tUnpacked 1 value from key MGOF: 5\n",
      "\tUnpacked 1 value from key MQ: 59.5\n",
      "\tUnpacked 1 value from key NF: 101\n",
      "\tUnpacked 1 value from key NR: 47\n",
      "\tUnpacked 1 value from key PP: 2965.0\n",
      "\tUnpacked 1 value from key SbPval: 0.62\n",
      "\tUnpacked 1 value from key Source: Platypus\n",
      "\tUnpacked 1 value from key TR: 148\n",
      "\tAdded 20 keys to dict\n",
      "Joining key alleles using delimiter ;\n",
      "Unpacked 1 value from key samples: Call(sample=sample, CallData(GT=1/1, GL=[-300.0, -41.24, 0.0], GOF=5.0, GQ=99, NR=152, NV=148))\n",
      "Unpacking key _sample_indexes as dictionary with 1 keys\n",
      "\tAdded 1 keys to dict\n"
     ]
    }
   ],
   "source": [
    "record_unpacked = unpack_dict(record.__dict__, verbose=True)"
   ]
  },
  {
   "cell_type": "code",
   "execution_count": 7,
   "metadata": {},
   "outputs": [
    {
     "data": {
      "text/plain": [
       "{'CHROM': '1',\n",
       " 'POS': 1246004,\n",
       " 'ID': None,\n",
       " 'REF': 'A',\n",
       " 'ALT': G,\n",
       " 'QUAL': 2965,\n",
       " 'FORMAT': 'GT:GL:GOF:GQ:NR:NV',\n",
       " 'start': 1246003,\n",
       " 'end': 1246004,\n",
       " 'alleles': 'A;G',\n",
       " 'samples': Call(sample=sample, CallData(GT=1/1, GL=[-300.0, -41.24, 0.0], GOF=5.0, GQ=99, NR=152, NV=148)),\n",
       " 'affected_start': 1246003,\n",
       " 'affected_end': 1246004,\n",
       " 'BRF': 0.09,\n",
       " 'FR': 1.0,\n",
       " 'HP': 6,\n",
       " 'HapScore': 1,\n",
       " 'MGOF': 5,\n",
       " 'MMLQ': 32.0,\n",
       " 'MQ': 59.5,\n",
       " 'NF': 101,\n",
       " 'NR': 47,\n",
       " 'PP': 2965.0,\n",
       " 'QD': 20.0,\n",
       " 'SC': 'ACAGGTACGTATTTTTCCAGG',\n",
       " 'SbPval': 0.62,\n",
       " 'Source': 'Platypus',\n",
       " 'TC': 152,\n",
       " 'TCF': 101,\n",
       " 'TCR': 51,\n",
       " 'TR': 148,\n",
       " 'WE': 1246012,\n",
       " 'WS': 1245994,\n",
       " 'sample': 0}"
      ]
     },
     "execution_count": 7,
     "metadata": {},
     "output_type": "execute_result"
    }
   ],
   "source": [
    "record_unpacked"
   ]
  },
  {
   "cell_type": "code",
   "execution_count": 10,
   "metadata": {},
   "outputs": [
    {
     "name": "stdout",
     "output_type": "stream",
     "text": [
      "Joining key GL using delimiter ;\n"
     ]
    }
   ],
   "source": [
    "call_dict = unpack_dict(extract_call(record_unpacked[\"samples\"], format_str=record_unpacked[\"FORMAT\"]), verbose=True)"
   ]
  },
  {
   "cell_type": "code",
   "execution_count": 11,
   "metadata": {},
   "outputs": [
    {
     "data": {
      "text/plain": [
       "{'GT': '1/1',\n",
       " 'GL': '-300.0;-41.24;0.0',\n",
       " 'GOF': 5.0,\n",
       " 'GQ': 99,\n",
       " 'NR': 152,\n",
       " 'NV': 148}"
      ]
     },
     "execution_count": 11,
     "metadata": {},
     "output_type": "execute_result"
    }
   ],
   "source": [
    "call_dict"
   ]
  },
  {
   "cell_type": "code",
   "execution_count": 64,
   "metadata": {},
   "outputs": [
    {
     "data": {
      "text/plain": [
       "['GT', 'GL', 'GOF', 'GQ', 'NR', 'NV']"
      ]
     },
     "execution_count": 64,
     "metadata": {},
     "output_type": "execute_result"
    }
   ],
   "source": [
    "record_unpacked[\"FORMAT\"].split(\":\")"
   ]
  },
  {
   "cell_type": "code",
   "execution_count": 32,
   "metadata": {},
   "outputs": [
    {
     "data": {
      "text/plain": [
       "'G'"
      ]
     },
     "execution_count": 32,
     "metadata": {},
     "output_type": "execute_result"
    }
   ],
   "source": [
    "record_unpacked[\"ALT\"].sequence"
   ]
  },
  {
   "cell_type": "code",
   "execution_count": 33,
   "metadata": {},
   "outputs": [
    {
     "data": {
      "text/plain": [
       "'SNV'"
      ]
     },
     "execution_count": 33,
     "metadata": {},
     "output_type": "execute_result"
    }
   ],
   "source": [
    "record_unpacked[\"ALT\"].type"
   ]
  },
  {
   "cell_type": "code",
   "execution_count": 69,
   "metadata": {},
   "outputs": [
    {
     "data": {
      "text/plain": [
       "CallData(GT='1/1', GL=[-300.0, -41.24, 0.0], GOF=5.0, GQ=99, NR=152, NV=148)"
      ]
     },
     "execution_count": 69,
     "metadata": {},
     "output_type": "execute_result"
    }
   ],
   "source": [
    "record_unpacked[\"samples\"].data"
   ]
  },
  {
   "cell_type": "code",
   "execution_count": 51,
   "metadata": {},
   "outputs": [
    {
     "data": {
      "text/plain": [
       "{'CHROM': '1',\n",
       " 'POS': 1246004,\n",
       " 'ID': None,\n",
       " 'REF': 'A',\n",
       " 'ALT': [G],\n",
       " 'QUAL': 2965,\n",
       " 'FILTER': [],\n",
       " 'INFO': {'BRF': 0.09,\n",
       "  'FR': [1.0],\n",
       "  'HP': 6,\n",
       "  'HapScore': [1],\n",
       "  'MGOF': [5],\n",
       "  'MMLQ': 32.0,\n",
       "  'MQ': [59.5],\n",
       "  'NF': [101],\n",
       "  'NR': [47],\n",
       "  'PP': [2965.0],\n",
       "  'QD': 20.0,\n",
       "  'SC': 'ACAGGTACGTATTTTTCCAGG',\n",
       "  'SbPval': [0.62],\n",
       "  'Source': ['Platypus'],\n",
       "  'TC': 152,\n",
       "  'TCF': 101,\n",
       "  'TCR': 51,\n",
       "  'TR': [148],\n",
       "  'WE': 1246012,\n",
       "  'WS': 1245994},\n",
       " 'FORMAT': 'GT:GL:GOF:GQ:NR:NV',\n",
       " 'start': 1246003,\n",
       " 'end': 1246004,\n",
       " 'alleles': ['A', G],\n",
       " 'samples': [Call(sample=sample, CallData(GT=1/1, GL=[-300.0, -41.24, 0.0], GOF=5.0, GQ=99, NR=152, NV=148))],\n",
       " '_sample_indexes': {'sample': 0},\n",
       " 'affected_start': 1246003,\n",
       " 'affected_end': 1246004}"
      ]
     },
     "execution_count": 51,
     "metadata": {},
     "output_type": "execute_result"
    }
   ],
   "source": [
    "record.__dict__"
   ]
  },
  {
   "cell_type": "code",
   "execution_count": 11,
   "metadata": {},
   "outputs": [
    {
     "data": {
      "text/plain": [
       "{'chr': ['1', '1'],\n",
       " 'pos': [1158631, 1246004],\n",
       " 'ref': ['A', 'A'],\n",
       " 'alt': [[G], [G]],\n",
       " 'var_type': ['snp', 'snp'],\n",
       " 'read_depth': [[156], [148]],\n",
       " 'forward_depth': [[89], [101]],\n",
       " 'reverse_depth': [[67], [47]],\n",
       " 'variant_depth': [],\n",
       " 'pct_variant': [],\n",
       " 'pct_reference': [],\n",
       " 'gene_symbol': ['SDF4'],\n",
       " 'gene_id': ['ENSG00000078808'],\n",
       " 'biotype': ['protein_coding'],\n",
       " 'consequence_terms': ['synonymous_variant']}"
      ]
     },
     "execution_count": 11,
     "metadata": {},
     "output_type": "execute_result"
    }
   ],
   "source": [
    "out"
   ]
  },
  {
   "cell_type": "code",
   "execution_count": 10,
   "metadata": {},
   "outputs": [
    {
     "data": {
      "text/plain": [
       "[{'strand': -1,\n",
       "  'transcript_id': 'ENST00000323275',\n",
       "  'biotype': 'retained_intron',\n",
       "  'gene_id': 'ENSG00000127054',\n",
       "  'consequence_terms': ['downstream_gene_variant'],\n",
       "  'gene_symbol': 'CPSF3L',\n",
       "  'impact': 'MODIFIER',\n",
       "  'hgnc_id': 26052,\n",
       "  'variant_allele': 'G',\n",
       "  'gene_symbol_source': 'HGNC',\n",
       "  'distance': 976},\n",
       " {'gene_id': 'ENSG00000131584',\n",
       "  'biotype': 'protein_coding',\n",
       "  'consequence_terms': ['upstream_gene_variant'],\n",
       "  'transcript_id': 'ENST00000353662',\n",
       "  'strand': -1,\n",
       "  'variant_allele': 'G',\n",
       "  'distance': 2735,\n",
       "  'gene_symbol_source': 'HGNC',\n",
       "  'gene_symbol': 'ACAP3',\n",
       "  'hgnc_id': 16754,\n",
       "  'impact': 'MODIFIER'},\n",
       " {'consequence_terms': ['upstream_gene_variant'],\n",
       "  'gene_id': 'ENSG00000131584',\n",
       "  'biotype': 'protein_coding',\n",
       "  'transcript_id': 'ENST00000354700',\n",
       "  'strand': -1,\n",
       "  'distance': 2606,\n",
       "  'gene_symbol_source': 'HGNC',\n",
       "  'variant_allele': 'G',\n",
       "  'hgnc_id': 16754,\n",
       "  'impact': 'MODIFIER',\n",
       "  'gene_symbol': 'ACAP3'},\n",
       " {'gene_id': 'ENSG00000131584',\n",
       "  'biotype': 'nonsense_mediated_decay',\n",
       "  'consequence_terms': ['upstream_gene_variant'],\n",
       "  'strand': -1,\n",
       "  'transcript_id': 'ENST00000354980',\n",
       "  'variant_allele': 'G',\n",
       "  'gene_symbol_source': 'HGNC',\n",
       "  'distance': 2803,\n",
       "  'gene_symbol': 'ACAP3',\n",
       "  'impact': 'MODIFIER',\n",
       "  'hgnc_id': 16754},\n",
       " {'biotype': 'protein_coding',\n",
       "  'gene_id': 'ENSG00000169972',\n",
       "  'consequence_terms': ['splice_polypyrimidine_tract_variant',\n",
       "   'intron_variant'],\n",
       "  'transcript_id': 'ENST00000379031',\n",
       "  'strand': 1,\n",
       "  'variant_allele': 'G',\n",
       "  'gene_symbol_source': 'HGNC',\n",
       "  'gene_symbol': 'PUSL1',\n",
       "  'hgnc_id': 26914,\n",
       "  'impact': 'LOW'},\n",
       " {'strand': -1,\n",
       "  'transcript_id': 'ENST00000411962',\n",
       "  'gene_id': 'ENSG00000127054',\n",
       "  'biotype': 'protein_coding',\n",
       "  'consequence_terms': ['downstream_gene_variant'],\n",
       "  'gene_symbol': 'CPSF3L',\n",
       "  'impact': 'MODIFIER',\n",
       "  'hgnc_id': 26052,\n",
       "  'variant_allele': 'G',\n",
       "  'gene_symbol_source': 'HGNC',\n",
       "  'distance': 977},\n",
       " {'variant_allele': 'G',\n",
       "  'gene_symbol_source': 'HGNC',\n",
       "  'distance': 982,\n",
       "  'gene_symbol': 'CPSF3L',\n",
       "  'impact': 'MODIFIER',\n",
       "  'hgnc_id': 26052,\n",
       "  'gene_id': 'ENSG00000127054',\n",
       "  'biotype': 'protein_coding',\n",
       "  'consequence_terms': ['downstream_gene_variant'],\n",
       "  'strand': -1,\n",
       "  'transcript_id': 'ENST00000419704'},\n",
       " {'consequence_terms': ['downstream_gene_variant'],\n",
       "  'biotype': 'protein_coding',\n",
       "  'gene_id': 'ENSG00000127054',\n",
       "  'strand': -1,\n",
       "  'transcript_id': 'ENST00000421495',\n",
       "  'gene_symbol_source': 'HGNC',\n",
       "  'distance': 982,\n",
       "  'variant_allele': 'G',\n",
       "  'impact': 'MODIFIER',\n",
       "  'hgnc_id': 26052,\n",
       "  'gene_symbol': 'CPSF3L'},\n",
       " {'impact': 'MODIFIER',\n",
       "  'hgnc_id': 26052,\n",
       "  'gene_symbol': 'CPSF3L',\n",
       "  'gene_symbol_source': 'HGNC',\n",
       "  'distance': 4254,\n",
       "  'variant_allele': 'G',\n",
       "  'strand': -1,\n",
       "  'transcript_id': 'ENST00000430786',\n",
       "  'consequence_terms': ['downstream_gene_variant'],\n",
       "  'gene_id': 'ENSG00000127054',\n",
       "  'biotype': 'nonsense_mediated_decay'},\n",
       " {'strand': -1,\n",
       "  'transcript_id': 'ENST00000434694',\n",
       "  'gene_id': 'ENSG00000127054',\n",
       "  'biotype': 'protein_coding',\n",
       "  'consequence_terms': ['downstream_gene_variant'],\n",
       "  'gene_symbol': 'CPSF3L',\n",
       "  'impact': 'MODIFIER',\n",
       "  'hgnc_id': 26052,\n",
       "  'variant_allele': 'G',\n",
       "  'gene_symbol_source': 'HGNC',\n",
       "  'distance': 3121,\n",
       "  'flags': ['cds_end_NF']},\n",
       " {'gene_symbol_source': 'HGNC',\n",
       "  'distance': 973,\n",
       "  'variant_allele': 'G',\n",
       "  'impact': 'MODIFIER',\n",
       "  'hgnc_id': 26052,\n",
       "  'gene_symbol': 'CPSF3L',\n",
       "  'consequence_terms': ['downstream_gene_variant'],\n",
       "  'biotype': 'protein_coding',\n",
       "  'gene_id': 'ENSG00000127054',\n",
       "  'strand': -1,\n",
       "  'transcript_id': 'ENST00000435064'},\n",
       " {'gene_symbol': 'ACAP3',\n",
       "  'hgnc_id': 16754,\n",
       "  'impact': 'MODIFIER',\n",
       "  'variant_allele': 'G',\n",
       "  'distance': 2806,\n",
       "  'gene_symbol_source': 'HGNC',\n",
       "  'transcript_id': 'ENST00000438966',\n",
       "  'strand': -1,\n",
       "  'biotype': 'processed_transcript',\n",
       "  'gene_id': 'ENSG00000131584',\n",
       "  'consequence_terms': ['upstream_gene_variant']},\n",
       " {'transcript_id': 'ENST00000450926',\n",
       "  'strand': -1,\n",
       "  'biotype': 'protein_coding',\n",
       "  'gene_id': 'ENSG00000127054',\n",
       "  'consequence_terms': ['downstream_gene_variant'],\n",
       "  'gene_symbol': 'CPSF3L',\n",
       "  'hgnc_id': 26052,\n",
       "  'impact': 'MODIFIER',\n",
       "  'variant_allele': 'G',\n",
       "  'distance': 1195,\n",
       "  'gene_symbol_source': 'HGNC'},\n",
       " {'variant_allele': 'G',\n",
       "  'distance': 982,\n",
       "  'gene_symbol_source': 'HGNC',\n",
       "  'gene_symbol': 'CPSF3L',\n",
       "  'hgnc_id': 26052,\n",
       "  'impact': 'MODIFIER',\n",
       "  'biotype': 'nonsense_mediated_decay',\n",
       "  'gene_id': 'ENSG00000127054',\n",
       "  'consequence_terms': ['downstream_gene_variant'],\n",
       "  'transcript_id': 'ENST00000458452',\n",
       "  'strand': -1},\n",
       " {'hgnc_id': 26052,\n",
       "  'impact': 'MODIFIER',\n",
       "  'gene_symbol': 'CPSF3L',\n",
       "  'distance': 1636,\n",
       "  'gene_symbol_source': 'HGNC',\n",
       "  'variant_allele': 'G',\n",
       "  'transcript_id': 'ENST00000461514',\n",
       "  'strand': -1,\n",
       "  'consequence_terms': ['downstream_gene_variant'],\n",
       "  'gene_id': 'ENSG00000127054',\n",
       "  'biotype': 'retained_intron'},\n",
       " {'consequence_terms': ['downstream_gene_variant'],\n",
       "  'gene_id': 'ENSG00000127054',\n",
       "  'biotype': 'processed_transcript',\n",
       "  'transcript_id': 'ENST00000462432',\n",
       "  'strand': -1,\n",
       "  'distance': 978,\n",
       "  'gene_symbol_source': 'HGNC',\n",
       "  'variant_allele': 'G',\n",
       "  'hgnc_id': 26052,\n",
       "  'impact': 'MODIFIER',\n",
       "  'gene_symbol': 'CPSF3L'},\n",
       " {'variant_allele': 'G',\n",
       "  'gene_symbol_source': 'HGNC',\n",
       "  'distance': 784,\n",
       "  'gene_symbol': 'PUSL1',\n",
       "  'impact': 'MODIFIER',\n",
       "  'hgnc_id': 26914,\n",
       "  'gene_id': 'ENSG00000169972',\n",
       "  'biotype': 'retained_intron',\n",
       "  'consequence_terms': ['downstream_gene_variant'],\n",
       "  'strand': 1,\n",
       "  'transcript_id': 'ENST00000463758'},\n",
       " {'gene_symbol': 'CPSF3L',\n",
       "  'impact': 'MODIFIER',\n",
       "  'hgnc_id': 26052,\n",
       "  'variant_allele': 'G',\n",
       "  'gene_symbol_source': 'HGNC',\n",
       "  'distance': 2922,\n",
       "  'strand': -1,\n",
       "  'transcript_id': 'ENST00000467408',\n",
       "  'biotype': 'retained_intron',\n",
       "  'gene_id': 'ENSG00000127054',\n",
       "  'consequence_terms': ['downstream_gene_variant']},\n",
       " {'flags': ['cds_end_NF'],\n",
       "  'gene_symbol_source': 'HGNC',\n",
       "  'variant_allele': 'G',\n",
       "  'hgnc_id': 26914,\n",
       "  'impact': 'LOW',\n",
       "  'gene_symbol': 'PUSL1',\n",
       "  'consequence_terms': ['splice_polypyrimidine_tract_variant',\n",
       "   'intron_variant'],\n",
       "  'gene_id': 'ENSG00000169972',\n",
       "  'biotype': 'protein_coding',\n",
       "  'transcript_id': 'ENST00000467712',\n",
       "  'strand': 1},\n",
       " {'consequence_terms': ['downstream_gene_variant'],\n",
       "  'biotype': 'retained_intron',\n",
       "  'gene_id': 'ENSG00000127054',\n",
       "  'strand': -1,\n",
       "  'transcript_id': 'ENST00000470030',\n",
       "  'gene_symbol_source': 'HGNC',\n",
       "  'distance': 961,\n",
       "  'variant_allele': 'G',\n",
       "  'impact': 'MODIFIER',\n",
       "  'hgnc_id': 26052,\n",
       "  'gene_symbol': 'CPSF3L'},\n",
       " {'consequence_terms': ['splice_polypyrimidine_tract_variant',\n",
       "   'intron_variant',\n",
       "   'non_coding_transcript_variant'],\n",
       "  'biotype': 'processed_transcript',\n",
       "  'gene_id': 'ENSG00000169972',\n",
       "  'strand': 1,\n",
       "  'transcript_id': 'ENST00000470520',\n",
       "  'gene_symbol_source': 'HGNC',\n",
       "  'variant_allele': 'G',\n",
       "  'impact': 'LOW',\n",
       "  'hgnc_id': 26914,\n",
       "  'gene_symbol': 'PUSL1'},\n",
       " {'gene_symbol': 'ACAP3',\n",
       "  'hgnc_id': 16754,\n",
       "  'impact': 'MODIFIER',\n",
       "  'variant_allele': 'G',\n",
       "  'distance': 1015,\n",
       "  'gene_symbol_source': 'HGNC',\n",
       "  'transcript_id': 'ENST00000472541',\n",
       "  'strand': -1,\n",
       "  'biotype': 'retained_intron',\n",
       "  'gene_id': 'ENSG00000131584',\n",
       "  'consequence_terms': ['upstream_gene_variant']},\n",
       " {'consequence_terms': ['downstream_gene_variant'],\n",
       "  'biotype': 'retained_intron',\n",
       "  'gene_id': 'ENSG00000127054',\n",
       "  'strand': -1,\n",
       "  'transcript_id': 'ENST00000478641',\n",
       "  'gene_symbol_source': 'HGNC',\n",
       "  'distance': 982,\n",
       "  'variant_allele': 'G',\n",
       "  'impact': 'MODIFIER',\n",
       "  'hgnc_id': 26052,\n",
       "  'gene_symbol': 'CPSF3L'},\n",
       " {'transcript_id': 'ENST00000479108',\n",
       "  'strand': -1,\n",
       "  'consequence_terms': ['upstream_gene_variant'],\n",
       "  'gene_id': 'ENSG00000131584',\n",
       "  'biotype': 'retained_intron',\n",
       "  'hgnc_id': 16754,\n",
       "  'impact': 'MODIFIER',\n",
       "  'gene_symbol': 'ACAP3',\n",
       "  'distance': 2794,\n",
       "  'gene_symbol_source': 'HGNC',\n",
       "  'variant_allele': 'G'},\n",
       " {'gene_symbol_source': 'HGNC',\n",
       "  'distance': 1456,\n",
       "  'variant_allele': 'G',\n",
       "  'impact': 'MODIFIER',\n",
       "  'hgnc_id': 26052,\n",
       "  'gene_symbol': 'CPSF3L',\n",
       "  'consequence_terms': ['downstream_gene_variant'],\n",
       "  'gene_id': 'ENSG00000127054',\n",
       "  'biotype': 'retained_intron',\n",
       "  'strand': -1,\n",
       "  'transcript_id': 'ENST00000485710'},\n",
       " {'strand': -1,\n",
       "  'transcript_id': 'ENST00000488042',\n",
       "  'biotype': 'retained_intron',\n",
       "  'gene_id': 'ENSG00000127054',\n",
       "  'consequence_terms': ['downstream_gene_variant'],\n",
       "  'gene_symbol': 'CPSF3L',\n",
       "  'impact': 'MODIFIER',\n",
       "  'hgnc_id': 26052,\n",
       "  'variant_allele': 'G',\n",
       "  'gene_symbol_source': 'HGNC',\n",
       "  'distance': 3789},\n",
       " {'gene_id': 'ENSG00000131584',\n",
       "  'biotype': 'retained_intron',\n",
       "  'consequence_terms': ['upstream_gene_variant'],\n",
       "  'strand': -1,\n",
       "  'transcript_id': 'ENST00000492936',\n",
       "  'variant_allele': 'G',\n",
       "  'gene_symbol_source': 'HGNC',\n",
       "  'distance': 4695,\n",
       "  'gene_symbol': 'ACAP3',\n",
       "  'impact': 'MODIFIER',\n",
       "  'hgnc_id': 16754},\n",
       " {'gene_symbol_source': 'HGNC',\n",
       "  'variant_allele': 'G',\n",
       "  'impact': 'MODIFIER',\n",
       "  'hgnc_id': 26914,\n",
       "  'cdna_end': 989,\n",
       "  'gene_symbol': 'PUSL1',\n",
       "  'consequence_terms': ['non_coding_transcript_exon_variant'],\n",
       "  'gene_id': 'ENSG00000169972',\n",
       "  'biotype': 'retained_intron',\n",
       "  'cdna_start': 989,\n",
       "  'strand': 1,\n",
       "  'transcript_id': 'ENST00000493657'},\n",
       " {'strand': -1,\n",
       "  'transcript_id': 'ENST00000497304',\n",
       "  'biotype': 'retained_intron',\n",
       "  'gene_id': 'ENSG00000127054',\n",
       "  'consequence_terms': ['downstream_gene_variant'],\n",
       "  'gene_symbol': 'CPSF3L',\n",
       "  'impact': 'MODIFIER',\n",
       "  'hgnc_id': 26052,\n",
       "  'variant_allele': 'G',\n",
       "  'gene_symbol_source': 'HGNC',\n",
       "  'distance': 974},\n",
       " {'consequence_terms': ['downstream_gene_variant'],\n",
       "  'gene_id': 'ENSG00000127054',\n",
       "  'biotype': 'retained_intron',\n",
       "  'transcript_id': 'ENST00000525164',\n",
       "  'strand': -1,\n",
       "  'distance': 1641,\n",
       "  'gene_symbol_source': 'HGNC',\n",
       "  'variant_allele': 'G',\n",
       "  'hgnc_id': 26052,\n",
       "  'impact': 'MODIFIER',\n",
       "  'gene_symbol': 'CPSF3L'},\n",
       " {'strand': -1,\n",
       "  'transcript_id': 'ENST00000525603',\n",
       "  'biotype': 'retained_intron',\n",
       "  'gene_id': 'ENSG00000127054',\n",
       "  'consequence_terms': ['downstream_gene_variant'],\n",
       "  'gene_symbol': 'CPSF3L',\n",
       "  'impact': 'MODIFIER',\n",
       "  'hgnc_id': 26052,\n",
       "  'variant_allele': 'G',\n",
       "  'gene_symbol_source': 'HGNC',\n",
       "  'distance': 4936},\n",
       " {'impact': 'MODIFIER',\n",
       "  'hgnc_id': 26052,\n",
       "  'gene_symbol': 'CPSF3L',\n",
       "  'gene_symbol_source': 'HGNC',\n",
       "  'distance': 1662,\n",
       "  'variant_allele': 'G',\n",
       "  'strand': -1,\n",
       "  'transcript_id': 'ENST00000525769',\n",
       "  'consequence_terms': ['downstream_gene_variant'],\n",
       "  'gene_id': 'ENSG00000127054',\n",
       "  'biotype': 'retained_intron'},\n",
       " {'consequence_terms': ['downstream_gene_variant'],\n",
       "  'biotype': 'retained_intron',\n",
       "  'gene_id': 'ENSG00000127054',\n",
       "  'transcript_id': 'ENST00000526113',\n",
       "  'strand': -1,\n",
       "  'distance': 4380,\n",
       "  'gene_symbol_source': 'HGNC',\n",
       "  'variant_allele': 'G',\n",
       "  'hgnc_id': 26052,\n",
       "  'impact': 'MODIFIER',\n",
       "  'gene_symbol': 'CPSF3L'},\n",
       " {'impact': 'MODIFIER',\n",
       "  'hgnc_id': 26052,\n",
       "  'gene_symbol': 'CPSF3L',\n",
       "  'gene_symbol_source': 'HGNC',\n",
       "  'flags': ['cds_end_NF'],\n",
       "  'distance': 4203,\n",
       "  'variant_allele': 'G',\n",
       "  'strand': -1,\n",
       "  'transcript_id': 'ENST00000526332',\n",
       "  'consequence_terms': ['downstream_gene_variant'],\n",
       "  'gene_id': 'ENSG00000127054',\n",
       "  'biotype': 'protein_coding'},\n",
       " {'transcript_id': 'ENST00000526797',\n",
       "  'strand': -1,\n",
       "  'biotype': 'nonsense_mediated_decay',\n",
       "  'gene_id': 'ENSG00000127054',\n",
       "  'consequence_terms': ['downstream_gene_variant'],\n",
       "  'gene_symbol': 'CPSF3L',\n",
       "  'hgnc_id': 26052,\n",
       "  'impact': 'MODIFIER',\n",
       "  'variant_allele': 'G',\n",
       "  'distance': 4202,\n",
       "  'gene_symbol_source': 'HGNC'},\n",
       " {'variant_allele': 'G',\n",
       "  'distance': 4522,\n",
       "  'gene_symbol_source': 'HGNC',\n",
       "  'gene_symbol': 'CPSF3L',\n",
       "  'hgnc_id': 26052,\n",
       "  'impact': 'MODIFIER',\n",
       "  'biotype': 'retained_intron',\n",
       "  'gene_id': 'ENSG00000127054',\n",
       "  'consequence_terms': ['downstream_gene_variant'],\n",
       "  'transcript_id': 'ENST00000526904',\n",
       "  'strand': -1},\n",
       " {'gene_id': 'ENSG00000127054',\n",
       "  'biotype': 'nonsense_mediated_decay',\n",
       "  'consequence_terms': ['downstream_gene_variant'],\n",
       "  'transcript_id': 'ENST00000527098',\n",
       "  'strand': -1,\n",
       "  'variant_allele': 'G',\n",
       "  'distance': 1199,\n",
       "  'gene_symbol_source': 'HGNC',\n",
       "  'gene_symbol': 'CPSF3L',\n",
       "  'hgnc_id': 26052,\n",
       "  'impact': 'MODIFIER'},\n",
       " {'transcript_id': 'ENST00000527383',\n",
       "  'strand': -1,\n",
       "  'biotype': 'nonsense_mediated_decay',\n",
       "  'gene_id': 'ENSG00000127054',\n",
       "  'consequence_terms': ['downstream_gene_variant'],\n",
       "  'gene_symbol': 'CPSF3L',\n",
       "  'hgnc_id': 26052,\n",
       "  'impact': 'MODIFIER',\n",
       "  'variant_allele': 'G',\n",
       "  'distance': 2315,\n",
       "  'flags': ['cds_start_NF'],\n",
       "  'gene_symbol_source': 'HGNC'},\n",
       " {'gene_symbol_source': 'HGNC',\n",
       "  'flags': ['cds_end_NF'],\n",
       "  'distance': 4292,\n",
       "  'variant_allele': 'G',\n",
       "  'impact': 'MODIFIER',\n",
       "  'hgnc_id': 26052,\n",
       "  'gene_symbol': 'CPSF3L',\n",
       "  'consequence_terms': ['downstream_gene_variant'],\n",
       "  'gene_id': 'ENSG00000127054',\n",
       "  'biotype': 'protein_coding',\n",
       "  'strand': -1,\n",
       "  'transcript_id': 'ENST00000527719'},\n",
       " {'strand': -1,\n",
       "  'transcript_id': 'ENST00000528879',\n",
       "  'biotype': 'nonsense_mediated_decay',\n",
       "  'gene_id': 'ENSG00000127054',\n",
       "  'consequence_terms': ['downstream_gene_variant'],\n",
       "  'gene_symbol': 'CPSF3L',\n",
       "  'impact': 'MODIFIER',\n",
       "  'hgnc_id': 26052,\n",
       "  'variant_allele': 'G',\n",
       "  'gene_symbol_source': 'HGNC',\n",
       "  'distance': 1660},\n",
       " {'variant_allele': 'G',\n",
       "  'flags': ['cds_end_NF'],\n",
       "  'distance': 4294,\n",
       "  'gene_symbol_source': 'HGNC',\n",
       "  'gene_symbol': 'CPSF3L',\n",
       "  'hgnc_id': 26052,\n",
       "  'impact': 'MODIFIER',\n",
       "  'gene_id': 'ENSG00000127054',\n",
       "  'biotype': 'protein_coding',\n",
       "  'consequence_terms': ['downstream_gene_variant'],\n",
       "  'transcript_id': 'ENST00000530031',\n",
       "  'strand': -1},\n",
       " {'distance': 3512,\n",
       "  'gene_symbol_source': 'HGNC',\n",
       "  'variant_allele': 'G',\n",
       "  'hgnc_id': 26052,\n",
       "  'impact': 'MODIFIER',\n",
       "  'gene_symbol': 'CPSF3L',\n",
       "  'consequence_terms': ['downstream_gene_variant'],\n",
       "  'biotype': 'retained_intron',\n",
       "  'gene_id': 'ENSG00000127054',\n",
       "  'transcript_id': 'ENST00000531020',\n",
       "  'strand': -1},\n",
       " {'gene_id': 'ENSG00000127054',\n",
       "  'biotype': 'retained_intron',\n",
       "  'consequence_terms': ['downstream_gene_variant'],\n",
       "  'transcript_id': 'ENST00000531292',\n",
       "  'strand': -1,\n",
       "  'variant_allele': 'G',\n",
       "  'distance': 2435,\n",
       "  'gene_symbol_source': 'HGNC',\n",
       "  'gene_symbol': 'CPSF3L',\n",
       "  'hgnc_id': 26052,\n",
       "  'impact': 'MODIFIER'},\n",
       " {'gene_symbol': 'CPSF3L',\n",
       "  'impact': 'MODIFIER',\n",
       "  'hgnc_id': 26052,\n",
       "  'variant_allele': 'G',\n",
       "  'gene_symbol_source': 'HGNC',\n",
       "  'flags': ['cds_start_NF'],\n",
       "  'distance': 2163,\n",
       "  'strand': -1,\n",
       "  'transcript_id': 'ENST00000531377',\n",
       "  'gene_id': 'ENSG00000127054',\n",
       "  'biotype': 'nonsense_mediated_decay',\n",
       "  'consequence_terms': ['downstream_gene_variant']},\n",
       " {'hgnc_id': 26052,\n",
       "  'impact': 'MODIFIER',\n",
       "  'gene_symbol': 'CPSF3L',\n",
       "  'distance': 1003,\n",
       "  'gene_symbol_source': 'HGNC',\n",
       "  'variant_allele': 'G',\n",
       "  'transcript_id': 'ENST00000532772',\n",
       "  'strand': -1,\n",
       "  'consequence_terms': ['downstream_gene_variant'],\n",
       "  'gene_id': 'ENSG00000127054',\n",
       "  'biotype': 'nonsense_mediated_decay'},\n",
       " {'variant_allele': 'G',\n",
       "  'distance': 3689,\n",
       "  'gene_symbol_source': 'HGNC',\n",
       "  'gene_symbol': 'CPSF3L',\n",
       "  'hgnc_id': 26052,\n",
       "  'impact': 'MODIFIER',\n",
       "  'gene_id': 'ENSG00000127054',\n",
       "  'biotype': 'retained_intron',\n",
       "  'consequence_terms': ['downstream_gene_variant'],\n",
       "  'transcript_id': 'ENST00000533916',\n",
       "  'strand': -1},\n",
       " {'gene_symbol': 'CPSF3L',\n",
       "  'hgnc_id': 26052,\n",
       "  'impact': 'MODIFIER',\n",
       "  'variant_allele': 'G',\n",
       "  'distance': 982,\n",
       "  'gene_symbol_source': 'HGNC',\n",
       "  'transcript_id': 'ENST00000540437',\n",
       "  'strand': -1,\n",
       "  'biotype': 'protein_coding',\n",
       "  'gene_id': 'ENSG00000127054',\n",
       "  'consequence_terms': ['downstream_gene_variant']},\n",
       " {'gene_symbol': 'CPSF3L',\n",
       "  'impact': 'MODIFIER',\n",
       "  'hgnc_id': 26052,\n",
       "  'variant_allele': 'G',\n",
       "  'gene_symbol_source': 'HGNC',\n",
       "  'distance': 1199,\n",
       "  'strand': -1,\n",
       "  'transcript_id': 'ENST00000545578',\n",
       "  'biotype': 'protein_coding',\n",
       "  'gene_id': 'ENSG00000127054',\n",
       "  'consequence_terms': ['downstream_gene_variant']}]"
      ]
     },
     "execution_count": 10,
     "metadata": {},
     "output_type": "execute_result"
    }
   ],
   "source": [
    "decoded[0]['transcript_consequences']"
   ]
  },
  {
   "cell_type": "markdown",
   "metadata": {},
   "source": [
    "---"
   ]
  },
  {
   "cell_type": "code",
   "execution_count": null,
   "metadata": {},
   "outputs": [],
   "source": [
    "err_counter=0\n",
    "for i in a_comb.var_names:\n",
    "    if a_comb.var.loc[i, \"gene_id\"] == \"\":\n",
    "        try:\n",
    "            a_comb.var.loc[i, \"gene_id\"] = data.gene_ids_of_gene_name(i)[0]\n",
    "        except:\n",
    "            err_counter += 1\n",
    "print(\"{} errors in ENSEMBL mapping\".format(err_counter))"
   ]
  }
 ],
 "metadata": {
  "kernelspec": {
   "display_name": "scanpy",
   "language": "python",
   "name": "scanpy"
  },
  "language_info": {
   "codemirror_mode": {
    "name": "ipython",
    "version": 3
   },
   "file_extension": ".py",
   "mimetype": "text/x-python",
   "name": "python",
   "nbconvert_exporter": "python",
   "pygments_lexer": "ipython3",
   "version": "3.8.10"
  }
 },
 "nbformat": 4,
 "nbformat_minor": 4
}
