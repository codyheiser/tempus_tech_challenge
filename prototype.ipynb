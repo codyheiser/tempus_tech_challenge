{
 "cells": [
  {
   "cell_type": "code",
   "execution_count": 1,
   "metadata": {},
   "outputs": [],
   "source": [
    "from joblib import Parallel, delayed\n",
    "from utils import *"
   ]
  },
  {
   "cell_type": "markdown",
   "metadata": {},
   "source": [
    "---\n",
    "\n",
    "# 1. Loop\n",
    "\n",
    "For-loop through VCF records and use functions from `utils.py` to extract annotation information"
   ]
  },
  {
   "cell_type": "code",
   "execution_count": 2,
   "metadata": {},
   "outputs": [
    {
     "name": "stdout",
     "output_type": "stream",
     "text": [
      "Record(CHROM=1, POS=1158631, REF=A, ALT=[G])\n",
      "\n",
      "Record(CHROM=1, POS=1246004, REF=A, ALT=[G])\n",
      "\n",
      "Record(CHROM=1, POS=1249187, REF=G, ALT=[A])\n",
      "\n",
      "Record(CHROM=1, POS=1261824, REF=G, ALT=[C])\n",
      "\n",
      "Record(CHROM=1, POS=1387667, REF=C, ALT=[G])\n",
      "\n",
      "\n",
      "Done! Total records: 5\n",
      "CPU times: user 178 ms, sys: 20.2 ms, total: 199 ms\n",
      "Wall time: 10.4 s\n"
     ]
    }
   ],
   "source": [
    "%%time\n",
    "\n",
    "out_df = pd.DataFrame()  # initialize empty dataframe\n",
    "vcf_read = vcf.Reader(open(\"test_vcf_data.txt\", \"r\"))\n",
    "\n",
    "for i, record in enumerate(vcf_read):\n",
    "    if i < 5:  # only look through first few records for manageable output\n",
    "        print(record, end = \"\\n\\n\")\n",
    "\n",
    "        # unpack record into dictionary of depth 1\n",
    "        record_unpacked = unpack_dict(record.__dict__)\n",
    "        \n",
    "        # unpack ALT allele objects\n",
    "        record_unpacked = extract_alt(record_unpacked, alt_obj=record.ALT, alt_key=\"ALT\")\n",
    "            \n",
    "        # unpack model._Call object\n",
    "        call_dict = unpack_dict(\n",
    "            extract_call(record_unpacked[\"samples\"], format_str=record_unpacked[\"FORMAT\"]),\n",
    "        )\n",
    "        # remove old keys\n",
    "        del record_unpacked[\"samples\"]\n",
    "        del record_unpacked[\"FORMAT\"]\n",
    "        # merge dicts\n",
    "        record_unpacked = {**record_unpacked, **call_dict}\n",
    "    \n",
    "        # get gene where mutation is\n",
    "        overlap_dict = overlap_get(record)\n",
    "        try:\n",
    "            # first record\n",
    "            record_unpacked[\"gene_id\"] = overlap_dict[0][\"gene_id\"]\n",
    "            record_unpacked[\"gene_symbol\"] = overlap_dict[0][\"external_name\"]\n",
    "            record_unpacked[\"gene_biotype\"] = overlap_dict[0][\"biotype\"]\n",
    "            record_unpacked[\"gene_description\"] = overlap_dict[0][\"description\"]\n",
    "            if len(overlap_dict) > 1:\n",
    "                for i in range(1, len(overlap_dict)):\n",
    "                    record_unpacked[\"gene_id{}\".format(i)] = overlap_dict[i][\"gene_id\"]\n",
    "                    record_unpacked[\"gene_symbol{}\".format(i)] = overlap_dict[i][\"external_name\"]\n",
    "                    record_unpacked[\"gene_biotype{}\".format(i)] = overlap_dict[i][\"biotype\"]\n",
    "                    record_unpacked[\"gene_description{}\".format(i)] = overlap_dict[i][\"description\"]\n",
    "        except:\n",
    "            print(\"No gene overlap found for {}\".format(record))\n",
    "\n",
    "        # call Ensembl VEP endpoint\n",
    "        vep_dict = vep_region_post(\n",
    "            record,\n",
    "            hgvs=1,\n",
    "            #protein=1,\n",
    "            #uniprot=1,\n",
    "            GO=1,\n",
    "            #vcf_string=1,\n",
    "            #domains=1,\n",
    "            distance=0,  # don't look for upstream/downstream effects for simplicity\n",
    "        )\n",
    "        # extract VEP info\n",
    "        record_unpacked[\"most_severe_consequence\"] = vep_dict[\"most_severe_consequence\"]\n",
    "        \n",
    "        # get MAF and snp info if available\n",
    "        if \"colocated_variants\" in vep_dict:\n",
    "            for d in vep_dict[\"colocated_variants\"]:\n",
    "                if \"minor_allele\" in d:\n",
    "                    record_unpacked[\"minor_allele\"] = d[\"minor_allele\"]\n",
    "                    record_unpacked[\"minor_allele_freq\"] = d[\"minor_allele_freq\"]\n",
    "                    record_unpacked[\"snp_id\"] = d[\"id\"]\n",
    "        \n",
    "        # add to out_df\n",
    "        out_df = pd.concat([out_df, pd.DataFrame(record_unpacked, index=[i])])\n",
    "    else:\n",
    "        break  # after n loops, quit to look at output\n",
    "        \n",
    "calc_frequencies(out_df)  # calculate allele frequencies\n",
    "    \n",
    "print(\"\\nDone! Total records: {}\".format(i))"
   ]
  },
  {
   "cell_type": "code",
   "execution_count": 3,
   "metadata": {},
   "outputs": [
    {
     "data": {
      "text/html": [
       "<div>\n",
       "<style scoped>\n",
       "    .dataframe tbody tr th:only-of-type {\n",
       "        vertical-align: middle;\n",
       "    }\n",
       "\n",
       "    .dataframe tbody tr th {\n",
       "        vertical-align: top;\n",
       "    }\n",
       "\n",
       "    .dataframe thead th {\n",
       "        text-align: right;\n",
       "    }\n",
       "</style>\n",
       "<table border=\"1\" class=\"dataframe\">\n",
       "  <thead>\n",
       "    <tr style=\"text-align: right;\">\n",
       "      <th></th>\n",
       "      <th>CHROM</th>\n",
       "      <th>POS</th>\n",
       "      <th>REF</th>\n",
       "      <th>ALT</th>\n",
       "      <th>ALT_type</th>\n",
       "      <th>NR</th>\n",
       "      <th>NV</th>\n",
       "      <th>NRef</th>\n",
       "      <th>VAF</th>\n",
       "      <th>RAF</th>\n",
       "    </tr>\n",
       "  </thead>\n",
       "  <tbody>\n",
       "    <tr>\n",
       "      <th>0</th>\n",
       "      <td>1</td>\n",
       "      <td>1158631</td>\n",
       "      <td>A</td>\n",
       "      <td>G</td>\n",
       "      <td>SNV</td>\n",
       "      <td>160</td>\n",
       "      <td>156</td>\n",
       "      <td>4</td>\n",
       "      <td>0.975000</td>\n",
       "      <td>0.025000</td>\n",
       "    </tr>\n",
       "    <tr>\n",
       "      <th>1</th>\n",
       "      <td>1</td>\n",
       "      <td>1246004</td>\n",
       "      <td>A</td>\n",
       "      <td>G</td>\n",
       "      <td>SNV</td>\n",
       "      <td>152</td>\n",
       "      <td>148</td>\n",
       "      <td>4</td>\n",
       "      <td>0.973684</td>\n",
       "      <td>0.026316</td>\n",
       "    </tr>\n",
       "    <tr>\n",
       "      <th>2</th>\n",
       "      <td>1</td>\n",
       "      <td>1249187</td>\n",
       "      <td>G</td>\n",
       "      <td>A</td>\n",
       "      <td>SNV</td>\n",
       "      <td>137</td>\n",
       "      <td>135</td>\n",
       "      <td>2</td>\n",
       "      <td>0.985401</td>\n",
       "      <td>0.014599</td>\n",
       "    </tr>\n",
       "    <tr>\n",
       "      <th>3</th>\n",
       "      <td>1</td>\n",
       "      <td>1261824</td>\n",
       "      <td>G</td>\n",
       "      <td>C</td>\n",
       "      <td>SNV</td>\n",
       "      <td>136</td>\n",
       "      <td>134</td>\n",
       "      <td>2</td>\n",
       "      <td>0.985294</td>\n",
       "      <td>0.014706</td>\n",
       "    </tr>\n",
       "    <tr>\n",
       "      <th>4</th>\n",
       "      <td>1</td>\n",
       "      <td>1387667</td>\n",
       "      <td>C</td>\n",
       "      <td>G</td>\n",
       "      <td>SNV</td>\n",
       "      <td>137</td>\n",
       "      <td>133</td>\n",
       "      <td>4</td>\n",
       "      <td>0.970803</td>\n",
       "      <td>0.029197</td>\n",
       "    </tr>\n",
       "  </tbody>\n",
       "</table>\n",
       "</div>"
      ],
      "text/plain": [
       "  CHROM      POS REF ALT ALT_type   NR   NV  NRef       VAF       RAF\n",
       "0     1  1158631   A   G      SNV  160  156     4  0.975000  0.025000\n",
       "1     1  1246004   A   G      SNV  152  148     4  0.973684  0.026316\n",
       "2     1  1249187   G   A      SNV  137  135     2  0.985401  0.014599\n",
       "3     1  1261824   G   C      SNV  136  134     2  0.985294  0.014706\n",
       "4     1  1387667   C   G      SNV  137  133     4  0.970803  0.029197"
      ]
     },
     "execution_count": 3,
     "metadata": {},
     "output_type": "execute_result"
    }
   ],
   "source": [
    "out_df[[\"CHROM\",\"POS\",\"REF\",\"ALT\",\"ALT_type\",\"NR\",\"NV\",\"NRef\",\"VAF\",\"RAF\"]]"
   ]
  },
  {
   "cell_type": "code",
   "execution_count": 4,
   "metadata": {},
   "outputs": [
    {
     "data": {
      "text/plain": [
       "'intron_variant'"
      ]
     },
     "execution_count": 4,
     "metadata": {},
     "output_type": "execute_result"
    }
   ],
   "source": [
    "vep_dict[\"most_severe_consequence\"]"
   ]
  },
  {
   "cell_type": "code",
   "execution_count": 5,
   "metadata": {},
   "outputs": [
    {
     "data": {
      "text/plain": [
       "['ATAD3C', 'ATAD3C']"
      ]
     },
     "execution_count": 5,
     "metadata": {},
     "output_type": "execute_result"
    }
   ],
   "source": [
    "[vep_dict[\"transcript_consequences\"][x][\"gene_symbol\"] for x in range(len(vep_dict[\"transcript_consequences\"]))]"
   ]
  },
  {
   "cell_type": "code",
   "execution_count": 6,
   "metadata": {},
   "outputs": [
    {
     "data": {
      "text/plain": [
       "['protein_coding', 'protein_coding']"
      ]
     },
     "execution_count": 6,
     "metadata": {},
     "output_type": "execute_result"
    }
   ],
   "source": [
    "[vep_dict[\"transcript_consequences\"][x][\"biotype\"] for x in range(len(vep_dict[\"transcript_consequences\"]))]"
   ]
  },
  {
   "cell_type": "code",
   "execution_count": 7,
   "metadata": {},
   "outputs": [
    {
     "data": {
      "text/plain": [
       "[['intron_variant'], ['intron_variant']]"
      ]
     },
     "execution_count": 7,
     "metadata": {},
     "output_type": "execute_result"
    }
   ],
   "source": [
    "[vep_dict[\"transcript_consequences\"][x][\"consequence_terms\"] for x in range(len(vep_dict[\"transcript_consequences\"]))]"
   ]
  },
  {
   "cell_type": "code",
   "execution_count": 15,
   "metadata": {},
   "outputs": [
    {
     "data": {
      "text/plain": [
       "[{'gene_symbol_source': 'HGNC',\n",
       "  'gene_id': 'ENSG00000215915',\n",
       "  'gene_symbol': 'ATAD3C',\n",
       "  'strand': 1,\n",
       "  'hgvsc': 'ENST00000378785.2:c.153-78C>G',\n",
       "  'transcript_id': 'ENST00000378785',\n",
       "  'consequence_terms': ['intron_variant'],\n",
       "  'variant_allele': 'G',\n",
       "  'hgnc_id': 32151,\n",
       "  'go': 'GO:0000166:nucleotide_binding,GO:0005524:ATP_binding,GO:0006281:DNA_repair,GO:0006310:DNA_recombination,GO:0009378:four-way_junction_helicase_activity,GO:0017111:nucleoside-triphosphatase_activity',\n",
       "  'impact': 'MODIFIER',\n",
       "  'biotype': 'protein_coding'},\n",
       " {'variant_allele': 'G',\n",
       "  'hgnc_id': 32151,\n",
       "  'consequence_terms': ['intron_variant'],\n",
       "  'flags': ['cds_end_NF'],\n",
       "  'biotype': 'protein_coding',\n",
       "  'impact': 'MODIFIER',\n",
       "  'gene_symbol_source': 'HGNC',\n",
       "  'transcript_id': 'ENST00000475091',\n",
       "  'hgvsc': 'ENST00000475091.2:c.153-78C>G',\n",
       "  'gene_id': 'ENSG00000215915',\n",
       "  'gene_symbol': 'ATAD3C',\n",
       "  'strand': 1}]"
      ]
     },
     "execution_count": 15,
     "metadata": {},
     "output_type": "execute_result"
    }
   ],
   "source": [
    "vep_dict[\"transcript_consequences\"]"
   ]
  },
  {
   "cell_type": "code",
   "execution_count": 14,
   "metadata": {},
   "outputs": [
    {
     "data": {
      "text/plain": [
       "[0, 1]"
      ]
     },
     "execution_count": 14,
     "metadata": {},
     "output_type": "execute_result"
    }
   ],
   "source": [
    "[i for i in range(len(vep_dict[\"transcript_consequences\"])) if vep_dict[\"transcript_consequences\"][i][\"\"]]"
   ]
  },
  {
   "cell_type": "markdown",
   "metadata": {},
   "source": [
    "---\n",
    "\n",
    "# 2. `joblib` Parallel\n",
    "\n",
    "Try running in parallel to speed it up."
   ]
  },
  {
   "cell_type": "code",
   "execution_count": 8,
   "metadata": {},
   "outputs": [
    {
     "name": "stdout",
     "output_type": "stream",
     "text": [
      "CPU times: user 29.2 s, sys: 1.47 s, total: 30.7 s\n",
      "Wall time: 1h 4min 47s\n"
     ]
    }
   ],
   "source": [
    "%%time\n",
    "vcf_read = vcf.Reader(open(\"test_vcf_data.txt\", \"r\"))\n",
    "out = Parallel(n_jobs=5)(delayed(process_record)(record, i) for i, record in enumerate(vcf_read))"
   ]
  },
  {
   "cell_type": "code",
   "execution_count": 11,
   "metadata": {},
   "outputs": [
    {
     "data": {
      "text/plain": [
       "11765"
      ]
     },
     "execution_count": 11,
     "metadata": {},
     "output_type": "execute_result"
    }
   ],
   "source": [
    "len(out)  # list of pd.DataFrames returned"
   ]
  },
  {
   "cell_type": "code",
   "execution_count": 12,
   "metadata": {},
   "outputs": [],
   "source": [
    "out_df = pd.concat(out)  # concatenate into master df"
   ]
  },
  {
   "cell_type": "code",
   "execution_count": 13,
   "metadata": {},
   "outputs": [
    {
     "data": {
      "text/html": [
       "<div>\n",
       "<style scoped>\n",
       "    .dataframe tbody tr th:only-of-type {\n",
       "        vertical-align: middle;\n",
       "    }\n",
       "\n",
       "    .dataframe tbody tr th {\n",
       "        vertical-align: top;\n",
       "    }\n",
       "\n",
       "    .dataframe thead th {\n",
       "        text-align: right;\n",
       "    }\n",
       "</style>\n",
       "<table border=\"1\" class=\"dataframe\">\n",
       "  <thead>\n",
       "    <tr style=\"text-align: right;\">\n",
       "      <th></th>\n",
       "      <th>CHROM</th>\n",
       "      <th>POS</th>\n",
       "      <th>REF</th>\n",
       "      <th>ALT</th>\n",
       "      <th>QUAL</th>\n",
       "      <th>start</th>\n",
       "      <th>end</th>\n",
       "      <th>alleles</th>\n",
       "      <th>affected_start</th>\n",
       "      <th>affected_end</th>\n",
       "      <th>...</th>\n",
       "      <th>gene_biotype5</th>\n",
       "      <th>gene_description5</th>\n",
       "      <th>gene_id6</th>\n",
       "      <th>gene_symbol6</th>\n",
       "      <th>gene_biotype6</th>\n",
       "      <th>gene_description6</th>\n",
       "      <th>gene_id7</th>\n",
       "      <th>gene_symbol7</th>\n",
       "      <th>gene_biotype7</th>\n",
       "      <th>gene_description7</th>\n",
       "    </tr>\n",
       "  </thead>\n",
       "  <tbody>\n",
       "    <tr>\n",
       "      <th>0</th>\n",
       "      <td>1</td>\n",
       "      <td>1158631</td>\n",
       "      <td>A</td>\n",
       "      <td>G</td>\n",
       "      <td>2965</td>\n",
       "      <td>1158630</td>\n",
       "      <td>1158631</td>\n",
       "      <td>A;G</td>\n",
       "      <td>1158630</td>\n",
       "      <td>1158631</td>\n",
       "      <td>...</td>\n",
       "      <td>NaN</td>\n",
       "      <td>NaN</td>\n",
       "      <td>NaN</td>\n",
       "      <td>NaN</td>\n",
       "      <td>NaN</td>\n",
       "      <td>NaN</td>\n",
       "      <td>NaN</td>\n",
       "      <td>NaN</td>\n",
       "      <td>NaN</td>\n",
       "      <td>NaN</td>\n",
       "    </tr>\n",
       "    <tr>\n",
       "      <th>1</th>\n",
       "      <td>1</td>\n",
       "      <td>1246004</td>\n",
       "      <td>A</td>\n",
       "      <td>G</td>\n",
       "      <td>2965</td>\n",
       "      <td>1246003</td>\n",
       "      <td>1246004</td>\n",
       "      <td>A;G</td>\n",
       "      <td>1246003</td>\n",
       "      <td>1246004</td>\n",
       "      <td>...</td>\n",
       "      <td>NaN</td>\n",
       "      <td>NaN</td>\n",
       "      <td>NaN</td>\n",
       "      <td>NaN</td>\n",
       "      <td>NaN</td>\n",
       "      <td>NaN</td>\n",
       "      <td>NaN</td>\n",
       "      <td>NaN</td>\n",
       "      <td>NaN</td>\n",
       "      <td>NaN</td>\n",
       "    </tr>\n",
       "    <tr>\n",
       "      <th>2</th>\n",
       "      <td>1</td>\n",
       "      <td>1249187</td>\n",
       "      <td>G</td>\n",
       "      <td>A</td>\n",
       "      <td>2965</td>\n",
       "      <td>1249186</td>\n",
       "      <td>1249187</td>\n",
       "      <td>G;A</td>\n",
       "      <td>1249186</td>\n",
       "      <td>1249187</td>\n",
       "      <td>...</td>\n",
       "      <td>NaN</td>\n",
       "      <td>NaN</td>\n",
       "      <td>NaN</td>\n",
       "      <td>NaN</td>\n",
       "      <td>NaN</td>\n",
       "      <td>NaN</td>\n",
       "      <td>NaN</td>\n",
       "      <td>NaN</td>\n",
       "      <td>NaN</td>\n",
       "      <td>NaN</td>\n",
       "    </tr>\n",
       "    <tr>\n",
       "      <th>3</th>\n",
       "      <td>1</td>\n",
       "      <td>1261824</td>\n",
       "      <td>G</td>\n",
       "      <td>C</td>\n",
       "      <td>2965</td>\n",
       "      <td>1261823</td>\n",
       "      <td>1261824</td>\n",
       "      <td>G;C</td>\n",
       "      <td>1261823</td>\n",
       "      <td>1261824</td>\n",
       "      <td>...</td>\n",
       "      <td>NaN</td>\n",
       "      <td>NaN</td>\n",
       "      <td>NaN</td>\n",
       "      <td>NaN</td>\n",
       "      <td>NaN</td>\n",
       "      <td>NaN</td>\n",
       "      <td>NaN</td>\n",
       "      <td>NaN</td>\n",
       "      <td>NaN</td>\n",
       "      <td>NaN</td>\n",
       "    </tr>\n",
       "    <tr>\n",
       "      <th>4</th>\n",
       "      <td>1</td>\n",
       "      <td>1387667</td>\n",
       "      <td>C</td>\n",
       "      <td>G</td>\n",
       "      <td>2965</td>\n",
       "      <td>1387666</td>\n",
       "      <td>1387667</td>\n",
       "      <td>C;G</td>\n",
       "      <td>1387666</td>\n",
       "      <td>1387667</td>\n",
       "      <td>...</td>\n",
       "      <td>NaN</td>\n",
       "      <td>NaN</td>\n",
       "      <td>NaN</td>\n",
       "      <td>NaN</td>\n",
       "      <td>NaN</td>\n",
       "      <td>NaN</td>\n",
       "      <td>NaN</td>\n",
       "      <td>NaN</td>\n",
       "      <td>NaN</td>\n",
       "      <td>NaN</td>\n",
       "    </tr>\n",
       "    <tr>\n",
       "      <th>...</th>\n",
       "      <td>...</td>\n",
       "      <td>...</td>\n",
       "      <td>...</td>\n",
       "      <td>...</td>\n",
       "      <td>...</td>\n",
       "      <td>...</td>\n",
       "      <td>...</td>\n",
       "      <td>...</td>\n",
       "      <td>...</td>\n",
       "      <td>...</td>\n",
       "      <td>...</td>\n",
       "      <td>...</td>\n",
       "      <td>...</td>\n",
       "      <td>...</td>\n",
       "      <td>...</td>\n",
       "      <td>...</td>\n",
       "      <td>...</td>\n",
       "      <td>...</td>\n",
       "      <td>...</td>\n",
       "      <td>...</td>\n",
       "      <td>...</td>\n",
       "    </tr>\n",
       "    <tr>\n",
       "      <th>11760</th>\n",
       "      <td>X</td>\n",
       "      <td>154020114</td>\n",
       "      <td>C</td>\n",
       "      <td>A</td>\n",
       "      <td>2965</td>\n",
       "      <td>154020113</td>\n",
       "      <td>154020114</td>\n",
       "      <td>C;A</td>\n",
       "      <td>154020113</td>\n",
       "      <td>154020114</td>\n",
       "      <td>...</td>\n",
       "      <td>NaN</td>\n",
       "      <td>NaN</td>\n",
       "      <td>NaN</td>\n",
       "      <td>NaN</td>\n",
       "      <td>NaN</td>\n",
       "      <td>NaN</td>\n",
       "      <td>NaN</td>\n",
       "      <td>NaN</td>\n",
       "      <td>NaN</td>\n",
       "      <td>NaN</td>\n",
       "    </tr>\n",
       "    <tr>\n",
       "      <th>11761</th>\n",
       "      <td>X</td>\n",
       "      <td>154456747</td>\n",
       "      <td>A</td>\n",
       "      <td>G</td>\n",
       "      <td>2965</td>\n",
       "      <td>154456746</td>\n",
       "      <td>154456747</td>\n",
       "      <td>A;G</td>\n",
       "      <td>154456746</td>\n",
       "      <td>154456747</td>\n",
       "      <td>...</td>\n",
       "      <td>NaN</td>\n",
       "      <td>NaN</td>\n",
       "      <td>NaN</td>\n",
       "      <td>NaN</td>\n",
       "      <td>NaN</td>\n",
       "      <td>NaN</td>\n",
       "      <td>NaN</td>\n",
       "      <td>NaN</td>\n",
       "      <td>NaN</td>\n",
       "      <td>NaN</td>\n",
       "    </tr>\n",
       "    <tr>\n",
       "      <th>11762</th>\n",
       "      <td>X</td>\n",
       "      <td>155125435</td>\n",
       "      <td>AG</td>\n",
       "      <td>A</td>\n",
       "      <td>2973</td>\n",
       "      <td>155125434</td>\n",
       "      <td>155125436</td>\n",
       "      <td>AG;A</td>\n",
       "      <td>155125435</td>\n",
       "      <td>155125436</td>\n",
       "      <td>...</td>\n",
       "      <td>NaN</td>\n",
       "      <td>NaN</td>\n",
       "      <td>NaN</td>\n",
       "      <td>NaN</td>\n",
       "      <td>NaN</td>\n",
       "      <td>NaN</td>\n",
       "      <td>NaN</td>\n",
       "      <td>NaN</td>\n",
       "      <td>NaN</td>\n",
       "      <td>NaN</td>\n",
       "    </tr>\n",
       "    <tr>\n",
       "      <th>11763</th>\n",
       "      <td>X</td>\n",
       "      <td>155127675</td>\n",
       "      <td>A</td>\n",
       "      <td>G</td>\n",
       "      <td>2965</td>\n",
       "      <td>155127674</td>\n",
       "      <td>155127675</td>\n",
       "      <td>A;G</td>\n",
       "      <td>155127674</td>\n",
       "      <td>155127675</td>\n",
       "      <td>...</td>\n",
       "      <td>NaN</td>\n",
       "      <td>NaN</td>\n",
       "      <td>NaN</td>\n",
       "      <td>NaN</td>\n",
       "      <td>NaN</td>\n",
       "      <td>NaN</td>\n",
       "      <td>NaN</td>\n",
       "      <td>NaN</td>\n",
       "      <td>NaN</td>\n",
       "      <td>NaN</td>\n",
       "    </tr>\n",
       "    <tr>\n",
       "      <th>11764</th>\n",
       "      <td>X</td>\n",
       "      <td>155233098</td>\n",
       "      <td>T</td>\n",
       "      <td>C</td>\n",
       "      <td>2962</td>\n",
       "      <td>155233097</td>\n",
       "      <td>155233098</td>\n",
       "      <td>T;C</td>\n",
       "      <td>155233097</td>\n",
       "      <td>155233098</td>\n",
       "      <td>...</td>\n",
       "      <td>NaN</td>\n",
       "      <td>NaN</td>\n",
       "      <td>NaN</td>\n",
       "      <td>NaN</td>\n",
       "      <td>NaN</td>\n",
       "      <td>NaN</td>\n",
       "      <td>NaN</td>\n",
       "      <td>NaN</td>\n",
       "      <td>NaN</td>\n",
       "      <td>NaN</td>\n",
       "    </tr>\n",
       "  </tbody>\n",
       "</table>\n",
       "<p>11765 rows × 71 columns</p>\n",
       "</div>"
      ],
      "text/plain": [
       "      CHROM        POS REF ALT  QUAL      start        end alleles  \\\n",
       "0         1    1158631   A   G  2965    1158630    1158631     A;G   \n",
       "1         1    1246004   A   G  2965    1246003    1246004     A;G   \n",
       "2         1    1249187   G   A  2965    1249186    1249187     G;A   \n",
       "3         1    1261824   G   C  2965    1261823    1261824     G;C   \n",
       "4         1    1387667   C   G  2965    1387666    1387667     C;G   \n",
       "...     ...        ...  ..  ..   ...        ...        ...     ...   \n",
       "11760     X  154020114   C   A  2965  154020113  154020114     C;A   \n",
       "11761     X  154456747   A   G  2965  154456746  154456747     A;G   \n",
       "11762     X  155125435  AG   A  2973  155125434  155125436    AG;A   \n",
       "11763     X  155127675   A   G  2965  155127674  155127675     A;G   \n",
       "11764     X  155233098   T   C  2962  155233097  155233098     T;C   \n",
       "\n",
       "       affected_start  affected_end  ...  gene_biotype5 gene_description5  \\\n",
       "0             1158630       1158631  ...            NaN               NaN   \n",
       "1             1246003       1246004  ...            NaN               NaN   \n",
       "2             1249186       1249187  ...            NaN               NaN   \n",
       "3             1261823       1261824  ...            NaN               NaN   \n",
       "4             1387666       1387667  ...            NaN               NaN   \n",
       "...               ...           ...  ...            ...               ...   \n",
       "11760       154020113     154020114  ...            NaN               NaN   \n",
       "11761       154456746     154456747  ...            NaN               NaN   \n",
       "11762       155125435     155125436  ...            NaN               NaN   \n",
       "11763       155127674     155127675  ...            NaN               NaN   \n",
       "11764       155233097     155233098  ...            NaN               NaN   \n",
       "\n",
       "       gene_id6  gene_symbol6  gene_biotype6  gene_description6  gene_id7  \\\n",
       "0           NaN           NaN            NaN                NaN       NaN   \n",
       "1           NaN           NaN            NaN                NaN       NaN   \n",
       "2           NaN           NaN            NaN                NaN       NaN   \n",
       "3           NaN           NaN            NaN                NaN       NaN   \n",
       "4           NaN           NaN            NaN                NaN       NaN   \n",
       "...         ...           ...            ...                ...       ...   \n",
       "11760       NaN           NaN            NaN                NaN       NaN   \n",
       "11761       NaN           NaN            NaN                NaN       NaN   \n",
       "11762       NaN           NaN            NaN                NaN       NaN   \n",
       "11763       NaN           NaN            NaN                NaN       NaN   \n",
       "11764       NaN           NaN            NaN                NaN       NaN   \n",
       "\n",
       "      gene_symbol7 gene_biotype7 gene_description7  \n",
       "0              NaN           NaN               NaN  \n",
       "1              NaN           NaN               NaN  \n",
       "2              NaN           NaN               NaN  \n",
       "3              NaN           NaN               NaN  \n",
       "4              NaN           NaN               NaN  \n",
       "...            ...           ...               ...  \n",
       "11760          NaN           NaN               NaN  \n",
       "11761          NaN           NaN               NaN  \n",
       "11762          NaN           NaN               NaN  \n",
       "11763          NaN           NaN               NaN  \n",
       "11764          NaN           NaN               NaN  \n",
       "\n",
       "[11765 rows x 71 columns]"
      ]
     },
     "execution_count": 13,
     "metadata": {},
     "output_type": "execute_result"
    }
   ],
   "source": [
    "out_df"
   ]
  },
  {
   "cell_type": "code",
   "execution_count": 15,
   "metadata": {},
   "outputs": [
    {
     "data": {
      "text/plain": [
       "Index(['CHROM', 'POS', 'REF', 'ALT', 'QUAL', 'start', 'end', 'alleles',\n",
       "       'affected_start', 'affected_end', 'BRF', 'FR', 'HP', 'HapScore', 'MGOF',\n",
       "       'MMLQ', 'MQ', 'NF', 'NR', 'PP', 'QD', 'SC', 'SbPval', 'Source', 'TC',\n",
       "       'TCF', 'TCR', 'TR', 'WE', 'WS', 'sample', 'GT', 'GL', 'GOF', 'GQ', 'NV',\n",
       "       'ALT_type', 'gene_id', 'gene_symbol', 'gene_biotype',\n",
       "       'gene_description', 'most_severe_consequence', 'gene_id1',\n",
       "       'gene_symbol1', 'gene_biotype1', 'gene_description1', 'FILTER',\n",
       "       'gene_id2', 'gene_symbol2', 'gene_biotype2', 'gene_description2',\n",
       "       'gene_id3', 'gene_symbol3', 'gene_biotype3', 'gene_description3',\n",
       "       'gene_id4', 'gene_symbol4', 'gene_biotype4', 'gene_description4',\n",
       "       'gene_id5', 'gene_symbol5', 'gene_biotype5', 'gene_description5',\n",
       "       'gene_id6', 'gene_symbol6', 'gene_biotype6', 'gene_description6',\n",
       "       'gene_id7', 'gene_symbol7', 'gene_biotype7', 'gene_description7'],\n",
       "      dtype='object')"
      ]
     },
     "execution_count": 15,
     "metadata": {},
     "output_type": "execute_result"
    }
   ],
   "source": [
    "out_df.columns"
   ]
  },
  {
   "cell_type": "code",
   "execution_count": null,
   "metadata": {},
   "outputs": [],
   "source": [
    "# calculate VAF\n",
    "out_df[\"VAF\"] = out_df[\"NV\"].astype(int) / out_df[\"NR\"].astype(int)\n",
    "\n",
    "# calculate reference reads\n",
    "out_df[\"NWT\"] = out_df[\"NR\"].astype(int) - out_df[\"NV\"].astype(int)\n",
    "\n",
    "# calculate reference %\n",
    "out_df[\"RAF\"] = out_df[\"NWT\"].astype(int) / out_df[\"NR\"].astype(int)"
   ]
  },
  {
   "cell_type": "code",
   "execution_count": 21,
   "metadata": {},
   "outputs": [
    {
     "data": {
      "text/plain": [
       "SNV    10838\n",
       "MNV      891\n",
       "Name: ALT_type, dtype: int64"
      ]
     },
     "execution_count": 21,
     "metadata": {},
     "output_type": "execute_result"
    }
   ],
   "source": [
    "out_df[\"ALT_type\"].value_counts()"
   ]
  },
  {
   "cell_type": "code",
   "execution_count": 22,
   "metadata": {},
   "outputs": [
    {
     "data": {
      "text/plain": [
       "intron_variant                         3942\n",
       "missense_variant                       2549\n",
       "synonymous_variant                     2243\n",
       "non_coding_transcript_exon_variant     1184\n",
       "splice_polypyrimidine_tract_variant     521\n",
       "3_prime_UTR_variant                     299\n",
       "splice_region_variant                   270\n",
       "intergenic_variant                      262\n",
       "5_prime_UTR_variant                     109\n",
       "regulatory_region_variant                96\n",
       "splice_donor_region_variant              85\n",
       "frameshift_variant                       47\n",
       "inframe_deletion                         25\n",
       "inframe_insertion                        23\n",
       "splice_donor_5th_base_variant            20\n",
       "splice_acceptor_variant                  20\n",
       "stop_gained                              17\n",
       "splice_donor_variant                     14\n",
       "stop_lost                                11\n",
       "TF_binding_site_variant                  10\n",
       "start_lost                                9\n",
       "coding_sequence_variant                   7\n",
       "stop_retained_variant                     1\n",
       "mature_miRNA_variant                      1\n",
       "Name: most_severe_consequence, dtype: int64"
      ]
     },
     "execution_count": 22,
     "metadata": {},
     "output_type": "execute_result"
    }
   ],
   "source": [
    "out_df[\"most_severe_consequence\"].value_counts()"
   ]
  }
 ],
 "metadata": {
  "kernelspec": {
   "display_name": "scanpy",
   "language": "python",
   "name": "scanpy"
  },
  "language_info": {
   "codemirror_mode": {
    "name": "ipython",
    "version": 3
   },
   "file_extension": ".py",
   "mimetype": "text/x-python",
   "name": "python",
   "nbconvert_exporter": "python",
   "pygments_lexer": "ipython3",
   "version": "3.8.10"
  }
 },
 "nbformat": 4,
 "nbformat_minor": 4
}
